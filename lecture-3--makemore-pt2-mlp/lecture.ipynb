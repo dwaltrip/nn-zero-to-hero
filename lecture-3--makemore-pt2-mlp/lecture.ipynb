{
 "cells": [
  {
   "cell_type": "code",
   "execution_count": 7,
   "id": "4e13fda8-30cb-4eae-a3c7-6b74ddb59b34",
   "metadata": {},
   "outputs": [],
   "source": [
    "import torch\n",
    "import torch.nn.functional as F\n",
    "import matplotlib.pyplot as plt\n",
    "%matplotlib inline"
   ]
  },
  {
   "cell_type": "code",
   "execution_count": 5,
   "id": "b55bcc22-f855-46a6-9bb7-33923af53463",
   "metadata": {},
   "outputs": [
    {
     "data": {
      "text/plain": [
       "['emma', 'olivia', 'ava', 'isabella', 'sophia', 'charlotte', 'mia', 'amelia']"
      ]
     },
     "execution_count": 5,
     "metadata": {},
     "output_type": "execute_result"
    }
   ],
   "source": [
    "words = open('../names.txt', 'r').read().splitlines()\n",
    "words[:8]"
   ]
  },
  {
   "cell_type": "code",
   "execution_count": 6,
   "id": "98ba0c0f-d0ff-4c78-98af-89d48a9cca3a",
   "metadata": {},
   "outputs": [
    {
     "data": {
      "text/plain": [
       "32033"
      ]
     },
     "execution_count": 6,
     "metadata": {},
     "output_type": "execute_result"
    }
   ],
   "source": [
    "len(words)"
   ]
  },
  {
   "cell_type": "code",
   "execution_count": 19,
   "id": "87872845-b1a8-4fb7-903c-f169a2701b91",
   "metadata": {},
   "outputs": [
    {
     "name": "stdout",
     "output_type": "stream",
     "text": [
      "{0: '.', 1: 'a', 2: 'b', 3: 'c', 4: 'd', 5: 'e', 6: 'f', 7: 'g', 8: 'h', 9: 'i', 10: 'j', 11: 'k', 12: 'l', 13: 'm', 14: 'n', 15: 'o', 16: 'p', 17: 'q', 18: 'r', 19: 's', 20: 't', 21: 'u', 22: 'v', 23: 'w', 24: 'x', 25: 'y', 26: 'z'}\n"
     ]
    }
   ],
   "source": [
    "# build the vocabulary of characters and mappings to/from integers\n",
    "import string\n",
    "START_STOP_TOKEN = '.'\n",
    "tokens = [START_STOP_TOKEN, *string.ascii_lowercase]\n",
    "stoi = { s: i for i, s in enumerate(tokens) }\n",
    "itos = { i: s for s, i in stoi.items() }\n",
    "num_tokens = len(tokens)\n",
    "print(itos)"
   ]
  },
  {
   "cell_type": "code",
   "execution_count": 364,
   "id": "6fd13138-3ee1-49bb-9aad-58541f54fb8e",
   "metadata": {},
   "outputs": [
    {
     "name": "stdout",
     "output_type": "stream",
     "text": [
      "trainset: torch.Size([182625, 3]) torch.Size([182625])\n",
      "devset  : torch.Size([22655, 3]) torch.Size([22655])\n",
      "testset : torch.Size([22866, 3]) torch.Size([22866])\n"
     ]
    }
   ],
   "source": [
    "BLOCK_SIZE = 3 # context length; how many chars do we use to predict the next one?\n",
    "def build_dataset(words):\n",
    "    X, Y = [], []\n",
    "    for w in words:\n",
    "        #print(); print(w)\n",
    "        context = [0] * BLOCK_SIZE\n",
    "        for ch in w + START_STOP_TOKEN:\n",
    "            ix = stoi[ch]\n",
    "            X.append(context)\n",
    "            Y.append(ix)\n",
    "            # print(''.join(itos[i] for i in context), '-->', itos[ix])\n",
    "            context = context[1:] + [ix]\n",
    "    X = torch.tensor(X)\n",
    "    Y = torch.tensor(Y)\n",
    "    print(X.shape, Y.shape)\n",
    "    return X, Y\n",
    "\n",
    "# -- without split --\n",
    "#X, Y = build_dataset(words)\n",
    "\n",
    "# -- with train, dev, test split --\n",
    "import random\n",
    "random.seed(42)\n",
    "shuffled_words = words[:]\n",
    "random.shuffle(shuffled_words)\n",
    "\n",
    "n1 = int(0.8*len(shuffled_words))\n",
    "n2 = int(0.9*len(shuffled_words))\n",
    "\n",
    "print('trainset:', end=' ')\n",
    "Xtr, Ytr = build_dataset(shuffled_words[:n1])\n",
    "print('devset  :', end=' ')\n",
    "Xdev, Ydev = build_dataset(shuffled_words[n1:n2])\n",
    "print('testset :', end=' ')\n",
    "Xte, Yte = build_dataset(shuffled_words[n2:])"
   ]
  },
  {
   "cell_type": "code",
   "execution_count": 322,
   "id": "bc4fb986-5f13-4717-b8e5-eea22df53f98",
   "metadata": {},
   "outputs": [
    {
     "name": "stdout",
     "output_type": "stream",
     "text": [
      "X[13,2]    = 1\n",
      "C[1]       = tensor([-1.4027, -0.6303])\n",
      "C[X[13,2]] = tensor([-1.4027, -0.6303])\n",
      "C[X][13,2] = tensor([-1.4027, -0.6303])\n"
     ]
    }
   ],
   "source": [
    "print('X[13,2]    =', X[13,2].item())\n",
    "print('C[1]       =', C[1])\n",
    "print('C[X[13,2]] =', C[X[13,2]])\n",
    "print('C[X][13,2] =', C[X][13,2])"
   ]
  },
  {
   "cell_type": "code",
   "execution_count": 172,
   "id": "c87ef9e4-6934-4f46-a636-1f11ab3aa8ca",
   "metadata": {},
   "outputs": [
    {
     "data": {
      "text/plain": [
       "torch.Size([32, 3, 2])"
      ]
     },
     "execution_count": 172,
     "metadata": {},
     "output_type": "execute_result"
    }
   ],
   "source": [
    "emb = C[X]\n",
    "emb.shape"
   ]
  },
  {
   "cell_type": "code",
   "execution_count": 139,
   "id": "03444446-c453-4046-80ff-1ed64b6ffd35",
   "metadata": {},
   "outputs": [],
   "source": [
    "hidden_layer_size = 100\n",
    "W1 = torch.randn((6, hidden_layer_size))\n",
    "b1 = torch.randn(hidden_layer_size)"
   ]
  },
  {
   "cell_type": "code",
   "execution_count": 140,
   "id": "95b3438f-cb48-4700-b16e-cf5201be4f9a",
   "metadata": {},
   "outputs": [],
   "source": [
    "h = torch.tanh(emb.view(-1, 6) @ W1 + b1)"
   ]
  },
  {
   "cell_type": "code",
   "execution_count": 141,
   "id": "34c201ec-74f7-4620-8c63-136df37b1bfd",
   "metadata": {},
   "outputs": [
    {
     "data": {
      "text/plain": [
       "torch.Size([32, 100])"
      ]
     },
     "execution_count": 141,
     "metadata": {},
     "output_type": "execute_result"
    }
   ],
   "source": [
    "h.shape"
   ]
  },
  {
   "cell_type": "code",
   "execution_count": 142,
   "id": "4443cca9-87b3-46ab-aae2-f0e4e3d80b0d",
   "metadata": {},
   "outputs": [],
   "source": [
    "W2 = torch.randn((hidden_layer_size, num_tokens))\n",
    "b2 = torch.randn((num_tokens))"
   ]
  },
  {
   "cell_type": "code",
   "execution_count": 143,
   "id": "29514c5d-15cc-4dc6-a721-0f0a22367f7a",
   "metadata": {},
   "outputs": [],
   "source": [
    "logits = h @ W2 + b2"
   ]
  },
  {
   "cell_type": "code",
   "execution_count": 145,
   "id": "918c506d-9dc4-4884-9fbf-8d3331d6a9aa",
   "metadata": {},
   "outputs": [
    {
     "data": {
      "text/plain": [
       "torch.Size([32, 27])"
      ]
     },
     "execution_count": 145,
     "metadata": {},
     "output_type": "execute_result"
    }
   ],
   "source": [
    "logits.shape"
   ]
  },
  {
   "cell_type": "code",
   "execution_count": 171,
   "id": "d8757514-1a65-43ed-af1a-a2c798828e08",
   "metadata": {},
   "outputs": [
    {
     "data": {
      "text/plain": [
       "(torch.Size([32, 27]), tensor(1.))"
      ]
     },
     "execution_count": 171,
     "metadata": {},
     "output_type": "execute_result"
    }
   ],
   "source": [
    "counts = logits.exp()\n",
    "probs = counts / counts.sum(1, keepdim=True)\n",
    "probs.shape, probs[0].sum()"
   ]
  },
  {
   "cell_type": "code",
   "execution_count": 170,
   "id": "e2f7f9e8-09a8-408a-b557-1830b28acd30",
   "metadata": {},
   "outputs": [
    {
     "data": {
      "text/plain": [
       "tensor(19.2251)"
      ]
     },
     "execution_count": 170,
     "metadata": {},
     "output_type": "execute_result"
    }
   ],
   "source": [
    "loss = -probs[torch.arange(32), Y].log().mean()\n",
    "loss"
   ]
  },
  {
   "cell_type": "code",
   "execution_count": 173,
   "id": "900aa1e0-c84f-477f-960f-0a5cc6ce6514",
   "metadata": {},
   "outputs": [],
   "source": [
    "# ------- cleanup -------"
   ]
  },
  {
   "cell_type": "code",
   "execution_count": 324,
   "id": "fd9e76db-a21b-48bb-9ee5-8226b5be6e34",
   "metadata": {},
   "outputs": [
    {
     "data": {
      "text/plain": [
       "(torch.Size([182625, 3]), torch.Size([182625]))"
      ]
     },
     "execution_count": 324,
     "metadata": {},
     "output_type": "execute_result"
    }
   ],
   "source": [
    "# dataset\n",
    "Xtr.shape, Ytr.shape"
   ]
  },
  {
   "cell_type": "code",
   "execution_count": 406,
   "id": "5a08c559-7a0a-4f37-ba59-714969311425",
   "metadata": {},
   "outputs": [
    {
     "name": "stdout",
     "output_type": "stream",
     "text": [
      "num params: 15843\n"
     ]
    }
   ],
   "source": [
    "EMB_DIM_SIZE = 8\n",
    "hidden_layer_size = 300\n",
    "g = torch.Generator().manual_seed(2147483647)\n",
    "\n",
    "C = torch.randn((num_tokens, EMB_DIM_SIZE), generator=g)\n",
    "W1 = torch.randn((BLOCK_SIZE * EMB_DIM_SIZE, hidden_layer_size), generator=g)\n",
    "b1 = torch.randn(hidden_layer_size, generator=g)\n",
    "W2 = torch.randn((hidden_layer_size, num_tokens), generator=g)\n",
    "b2 = torch.randn((num_tokens), generator=g)\n",
    "parameters = [C, W1, b1, W2, b2]\n",
    "\n",
    "for p in parameters:\n",
    "    p.requires_grad = True\n",
    "print('num params:', sum(p.nelement() for p in parameters))"
   ]
  },
  {
   "cell_type": "code",
   "execution_count": 366,
   "id": "4a58a1b1-c6f2-4922-b5a3-3b3700ac470b",
   "metadata": {},
   "outputs": [],
   "source": [
    "lre = torch.linspace(-3, 0, 1000)\n",
    "lrs = 10**lre\n",
    "#plt.plot(lrs)"
   ]
  },
  {
   "cell_type": "code",
   "execution_count": 400,
   "id": "35df7a9f-600f-4f50-9944-6fcffc034c77",
   "metadata": {},
   "outputs": [],
   "source": [
    "lri = []\n",
    "lossi = []\n",
    "stepi = []"
   ]
  },
  {
   "cell_type": "code",
   "execution_count": 407,
   "id": "31762eb3-9a03-49ad-8dd4-c90840745873",
   "metadata": {},
   "outputs": [
    {
     "name": "stdout",
     "output_type": "stream",
     "text": [
      "Context length: 3\n",
      "Number of embedding dims: 8\n",
      "Minibatch size: 64\n",
      "Hidden layer size: 300\n",
      "Number of params: 15843\n",
      "-------------------------------\n",
      "\n",
      "0%\n",
      "5%\n",
      "10%\n",
      "15%\n",
      "20%\n",
      "25%\n",
      "30%\n",
      "35%\n",
      "40%\n",
      "45%\n",
      "50%\n",
      "55%\n",
      "60%\n",
      "65%\n",
      "70%\n",
      "75%\n",
      "80%\n",
      "85%\n",
      "90%\n",
      "95%\n",
      "loss: 2.0622\n"
     ]
    }
   ],
   "source": [
    "MINIBATCH_SIZE = 64\n",
    "print('Context length:', BLOCK_SIZE)\n",
    "print('Number of embedding dims:', EMB_DIM_SIZE)\n",
    "print('Minibatch size:', MINIBATCH_SIZE)\n",
    "print('Hidden layer size:', hidden_layer_size)\n",
    "print('Number of params:', sum(p.nelement() for p in parameters))\n",
    "print('-------------------------------')\n",
    "print()\n",
    "\n",
    "# for i,lr in enumerate(lrs):\n",
    "for i in range(200_000):\n",
    "    # -- get indices for minibactch --\n",
    "    ix = torch.randint(0, Xtr.shape[0], (MINIBATCH_SIZE,))\n",
    "    x, y = Xtr[ix], Ytr[ix]\n",
    "    \n",
    "    # -- forward pass --\n",
    "    emb = C[x]\n",
    "    h = torch.tanh(emb.view(-1, BLOCK_SIZE * EMB_DIM_SIZE) @ W1 + b1)\n",
    "    logits = h @ W2 + b2\n",
    "    loss = F.cross_entropy(logits, y)\n",
    "    \n",
    "    # -- backward pass --\n",
    "    for p in parameters:\n",
    "        p.grad = None\n",
    "    loss.backward()\n",
    "    \n",
    "    # -- update --\n",
    "    lr = 0.1 if i < 100_000 else 0.01\n",
    "    for p in parameters:\n",
    "        p.data += -lr * p.grad\n",
    "\n",
    "    # -- track stats --\n",
    "    # lri.append(lr)\n",
    "    # lossi.append(loss.log10().item())\n",
    "    # stepi.append(i)\n",
    "\n",
    "    if (i+1) % 10_000 == 0:\n",
    "        print(f'{100*(i / 200_000.0):0.0f}% -- loss: {loss.item():0.4f}')\n",
    "\n",
    "print(f'loss: {loss.item():.4f}')"
   ]
  },
  {
   "cell_type": "code",
   "execution_count": 381,
   "id": "c76fd295-b370-4cbf-87dd-8ca59fc99378",
   "metadata": {},
   "outputs": [],
   "source": [
    "#plt.plot(stepi, lossi)"
   ]
  },
  {
   "cell_type": "code",
   "execution_count": 382,
   "id": "3c9ba79b-bc14-4b45-8613-9bf6c7c2c400",
   "metadata": {},
   "outputs": [],
   "source": [
    "#plt.plot(lri, lossi)"
   ]
  },
  {
   "cell_type": "code",
   "execution_count": 415,
   "id": "488338dc-0226-4229-987d-3f1bcac9bc31",
   "metadata": {},
   "outputs": [
    {
     "name": "stdout",
     "output_type": "stream",
     "text": [
      "train loss: 2.1134\n"
     ]
    }
   ],
   "source": [
    "emb = C[Xtr]\n",
    "h = torch.tanh(emb.view(-1, BLOCK_SIZE * EMB_DIM_SIZE) @ W1 + b1)\n",
    "logits = h @ W2 + b2\n",
    "loss = F.cross_entropy(logits, Ytr)\n",
    "print(f'train loss: {loss.item():0.4f}')"
   ]
  },
  {
   "cell_type": "code",
   "execution_count": 416,
   "id": "57cb05f8-721a-4ac7-9037-d2adf7274ad5",
   "metadata": {},
   "outputs": [
    {
     "name": "stdout",
     "output_type": "stream",
     "text": [
      "dev loss: 2.1572\n"
     ]
    }
   ],
   "source": [
    "emb = C[Xdev]\n",
    "h = torch.tanh(emb.view(-1, BLOCK_SIZE * EMB_DIM_SIZE) @ W1 + b1)\n",
    "logits = h @ W2 + b2\n",
    "loss = F.cross_entropy(logits, Ydev)\n",
    "print(f'dev loss: {loss.item():0.4f}')"
   ]
  },
  {
   "cell_type": "code",
   "execution_count": 412,
   "id": "a83429b7-ef91-4289-814f-b6c12958ef5a",
   "metadata": {},
   "outputs": [],
   "source": [
    "#c_dims = (1,4)\n",
    "for i in range(1, EMB_DIM_SIZE):\n",
    "    continue\n",
    "    c_dims = (0,i)\n",
    "    plt.figure(figsize=(4,4))\n",
    "    plt.scatter(C[:,c_dims[0]].data, C[:,c_dims[1]].data, s=100)\n",
    "    for i in range(C.shape[0]):\n",
    "        plt.text(C[i,c_dims[0]].item(), C[i,c_dims[1]].item(), itos[i], ha='center', va='center', color='white')\n",
    "    plt.grid('minor')"
   ]
  },
  {
   "cell_type": "code",
   "execution_count": 420,
   "id": "539bfc6b-f687-435d-bf9a-e3d6b4e9108c",
   "metadata": {},
   "outputs": [
    {
     "name": "stdout",
     "output_type": "stream",
     "text": [
      "carmahzati.\n",
      "hari.\n",
      "kimree.\n",
      "thil.\n",
      "halaysleer.\n",
      "huth.\n",
      "delynn.\n",
      "jareei.\n",
      "ner.\n",
      "kiah.\n",
      "maiif.\n",
      "kaleigh.\n",
      "ham.\n",
      "joce.\n",
      "quinn.\n",
      "suline.\n",
      "livabi.\n",
      "waje.\n",
      "ogiearyxin.\n",
      "kaelynn.\n"
     ]
    }
   ],
   "source": [
    "g = torch.Generator().manual_seed(2147483647 + 10)\n",
    "\n",
    "for _ in range(20):\n",
    "    out = []\n",
    "    context = [0] * BLOCK_SIZE\n",
    "    while True:\n",
    "        emb = C[torch.tensor([context])] # (1, block_size, d)\n",
    "        h = torch.tanh(emb.view(1, -1) @ W1 + b1)\n",
    "        logits = h @ W2 + b2\n",
    "        probs = F.softmax(logits, dim=1)\n",
    "        ix = torch.multinomial(probs, num_samples=1, generator=g).item()\n",
    "        context = context[1:] + [ix]\n",
    "        out.append(ix)\n",
    "        if ix == 0:\n",
    "            break\n",
    "    print(''.join(itos[i] for i in out))"
   ]
  },
  {
   "cell_type": "code",
   "execution_count": null,
   "id": "db5ab1b5-148a-4c28-936d-c5eae13a7cf3",
   "metadata": {},
   "outputs": [],
   "source": []
  }
 ],
 "metadata": {
  "kernelspec": {
   "display_name": "Python (venv nn-z2h)",
   "language": "python",
   "name": "venv"
  },
  "language_info": {
   "codemirror_mode": {
    "name": "ipython",
    "version": 3
   },
   "file_extension": ".py",
   "mimetype": "text/x-python",
   "name": "python",
   "nbconvert_exporter": "python",
   "pygments_lexer": "ipython3",
   "version": "3.11.2"
  }
 },
 "nbformat": 4,
 "nbformat_minor": 5
}
