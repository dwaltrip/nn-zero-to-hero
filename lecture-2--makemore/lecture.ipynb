{
 "cells": [
  {
   "cell_type": "code",
   "execution_count": 1,
   "id": "a0479600-13a3-42cf-9fed-66886333726b",
   "metadata": {},
   "outputs": [],
   "source": [
    "words = open('../names.txt', 'r').read().splitlines()"
   ]
  },
  {
   "cell_type": "code",
   "execution_count": 2,
   "id": "cf7e6afd-b7b4-4c6c-b479-d395e8d446cf",
   "metadata": {},
   "outputs": [
    {
     "data": {
      "text/plain": [
       "['emma',\n",
       " 'olivia',\n",
       " 'ava',\n",
       " 'isabella',\n",
       " 'sophia',\n",
       " 'charlotte',\n",
       " 'mia',\n",
       " 'amelia',\n",
       " 'harper',\n",
       " 'evelyn']"
      ]
     },
     "execution_count": 2,
     "metadata": {},
     "output_type": "execute_result"
    }
   ],
   "source": [
    "words[:10]"
   ]
  },
  {
   "cell_type": "code",
   "execution_count": 3,
   "id": "6291809e-b301-4bf1-8819-25d0793ad499",
   "metadata": {},
   "outputs": [
    {
     "data": {
      "text/plain": [
       "32033"
      ]
     },
     "execution_count": 3,
     "metadata": {},
     "output_type": "execute_result"
    }
   ],
   "source": [
    "len(words)"
   ]
  },
  {
   "cell_type": "code",
   "execution_count": 10,
   "id": "3dc5d6d3-db76-4745-8ad8-f9c1e5022fb8",
   "metadata": {},
   "outputs": [
    {
     "data": {
      "text/plain": [
       "(2, 15)"
      ]
     },
     "execution_count": 10,
     "metadata": {},
     "output_type": "execute_result"
    }
   ],
   "source": [
    "min(len(w) for w in words), max(len(w) for w in words)"
   ]
  },
  {
   "cell_type": "code",
   "execution_count": 18,
   "id": "f647e21b-837a-4bec-8aa8-eb06351e50cb",
   "metadata": {},
   "outputs": [],
   "source": [
    "counts = {}\n",
    "for w in words:\n",
    "    chs = ['<S>', *w, '<E>']\n",
    "    for ch1, ch2 in zip(chs, chs[1:]):\n",
    "        bigram = (ch1, ch2)\n",
    "        counts[bigram] = counts.get(bigram, 0) + 1"
   ]
  },
  {
   "cell_type": "code",
   "execution_count": 19,
   "id": "a2f406d8-0cbd-4876-8624-4c44acba1f41",
   "metadata": {},
   "outputs": [
    {
     "data": {
      "text/plain": [
       "627"
      ]
     },
     "execution_count": 19,
     "metadata": {},
     "output_type": "execute_result"
    }
   ],
   "source": [
    "len(counts)"
   ]
  },
  {
   "cell_type": "code",
   "execution_count": 33,
   "id": "ee19bf6a-bb32-4a54-a51e-29ed9ce79fa7",
   "metadata": {},
   "outputs": [],
   "source": [
    "counts_srtd = sorted(list(counts.items()), key= lambda x: x[1])"
   ]
  },
  {
   "cell_type": "code",
   "execution_count": 31,
   "id": "b80b826b-8961-4fe0-bc74-3450088bcb55",
   "metadata": {},
   "outputs": [
    {
     "data": {
      "text/plain": [
       "[(('q', 'r'), 1),\n",
       " (('d', 'z'), 1),\n",
       " (('p', 'j'), 1),\n",
       " (('q', 'l'), 1),\n",
       " (('p', 'f'), 1),\n",
       " (('q', 'e'), 1),\n",
       " (('b', 'c'), 1),\n",
       " (('c', 'd'), 1),\n",
       " (('m', 'f'), 1),\n",
       " (('p', 'n'), 1)]"
      ]
     },
     "execution_count": 31,
     "metadata": {},
     "output_type": "execute_result"
    }
   ],
   "source": [
    "counts_srtd[:10]"
   ]
  },
  {
   "cell_type": "code",
   "execution_count": 32,
   "id": "e4644939-a000-434c-a07b-1eaf11690ffa",
   "metadata": {},
   "outputs": [
    {
     "data": {
      "text/plain": [
       "[(('<S>', 'k'), 2963),\n",
       " (('n', 'a'), 2977),\n",
       " (('r', 'i'), 3033),\n",
       " (('e', 'l'), 3248),\n",
       " (('a', 'r'), 3264),\n",
       " (('e', '<E>'), 3983),\n",
       " (('<S>', 'a'), 4410),\n",
       " (('a', 'n'), 5438),\n",
       " (('a', '<E>'), 6640),\n",
       " (('n', '<E>'), 6763)]"
      ]
     },
     "execution_count": 32,
     "metadata": {},
     "output_type": "execute_result"
    }
   ],
   "source": [
    "counts_srtd[-10:]"
   ]
  },
  {
   "cell_type": "code",
   "execution_count": 35,
   "id": "f102e4b7-d9e9-431a-b5bf-fe5c7dd456e7",
   "metadata": {},
   "outputs": [],
   "source": [
    "import torch"
   ]
  },
  {
   "cell_type": "code",
   "execution_count": null,
   "id": "cde6c8bd-7549-4675-aac2-eb4dc08c6ab7",
   "metadata": {},
   "outputs": [],
   "source": []
  }
 ],
 "metadata": {
  "kernelspec": {
   "display_name": "Python (venv nn-z2h)",
   "language": "python",
   "name": "venv"
  },
  "language_info": {
   "codemirror_mode": {
    "name": "ipython",
    "version": 3
   },
   "file_extension": ".py",
   "mimetype": "text/x-python",
   "name": "python",
   "nbconvert_exporter": "python",
   "pygments_lexer": "ipython3",
   "version": "3.11.2"
  }
 },
 "nbformat": 4,
 "nbformat_minor": 5
}
